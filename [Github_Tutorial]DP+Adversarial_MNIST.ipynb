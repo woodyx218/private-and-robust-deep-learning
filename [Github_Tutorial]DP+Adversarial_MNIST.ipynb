{
  "nbformat": 4,
  "nbformat_minor": 0,
  "metadata": {
    "accelerator": "GPU",
    "colab": {
      "name": "[Github Tutorial]DP+Adversarial_MNIST.ipynb",
      "provenance": [],
      "collapsed_sections": [],
      "toc_visible": true
    },
    "kernelspec": {
      "display_name": "Python 3",
      "name": "python3"
    }
  },
  "cells": [
    {
      "cell_type": "markdown",
      "metadata": {
        "id": "Wh50Jow-9Pkx"
      },
      "source": [
        "# Preparation"
      ]
    },
    {
      "cell_type": "code",
      "metadata": {
        "colab": {
          "base_uri": "https://localhost:8080/",
          "height": 195
        },
        "id": "r9qUt7WqoX6L",
        "outputId": "f985fd6c-76ce-4b5f-eb61-83635226b842"
      },
      "source": [
        "!pip install --ignore-installed opacus --no-dependencies\n",
        "!git clone https://github.com/Harry24k/adversarial-attacks-pytorch.git\n",
        "import sys\n",
        "sys.path.insert(0,'/content/adversarial-attacks-pytorch')\n",
        "import torchattacks"
      ],
      "execution_count": 7,
      "outputs": [
        {
          "output_type": "stream",
          "name": "stdout",
          "text": [
            "Collecting opacus\n",
            "  Using cached opacus-0.14.0-py3-none-any.whl (114 kB)\n",
            "Installing collected packages: opacus\n",
            "Successfully installed opacus-0.14.0\n"
          ]
        },
        {
          "output_type": "display_data",
          "data": {
            "application/vnd.colab-display-data+json": {
              "pip_warning": {
                "packages": [
                  "opacus"
                ]
              }
            }
          },
          "metadata": {}
        },
        {
          "output_type": "stream",
          "name": "stdout",
          "text": [
            "fatal: destination path 'adversarial-attacks-pytorch' already exists and is not an empty directory.\n"
          ]
        }
      ]
    },
    {
      "cell_type": "code",
      "metadata": {
        "id": "38z-ryWkgDvk"
      },
      "source": [
        "import numpy as np\n",
        "import torch\n",
        "import torch.nn as nn\n",
        "import torch.nn.functional as F\n",
        "import torch.optim as optim\n",
        "from opacus import PrivacyEngine\n",
        "from torchvision import datasets, transforms\n",
        "from tqdm import tqdm\n",
        "import copy\n",
        "from torch.utils.data import DataLoader\n",
        "import time\n",
        "import matplotlib.pyplot as plt\n",
        "\n",
        "device=torch.device('cuda')\n",
        "\n",
        "def epoch_test(loader, model):\n",
        "    model.eval()\n",
        "    total_loss, total_err = 0.,0.\n",
        "    weight_set_samples=[] \n",
        "    for iter_index,(X,y) in enumerate(loader):\n",
        "        X,y = X.to(device), y.to(device)\n",
        "        yp = nn.LogSoftmax(dim=1)(model(X))\n",
        "        loss = nn.NLLLoss()(yp,y)\n",
        "        \n",
        "        total_err += (yp.max(dim=1)[1] != y).sum().item()\n",
        "        total_loss += loss.item() * X.shape[0]\n",
        "    return total_err / len(loader.dataset), total_loss / len(loader.dataset)\n",
        "\n",
        "def epoch_adversarial_GITHUB(attack_model, loader,attack, *args):\n",
        "    total_loss, total_err = 0.,0.\n",
        "    for X,y in loader:\n",
        "        X,y = X.to(device), y.to(device)\n",
        "        adv_image_with_delta = attack(attack_model, *args)(X,y)\n",
        "        \n",
        "        yp = nn.LogSoftmax(dim=1)(attack_model(adv_image_with_delta))\n",
        "        \n",
        "        loss = nn.NLLLoss()(yp,y)\n",
        "        \n",
        "        total_err += (yp.max(dim=1)[1] != y).sum().item()\n",
        "        total_loss += loss.item() * X.shape[0]\n",
        "        break\n",
        "    return total_err / X.shape[0], total_loss / X.shape[0]\n",
        "\n",
        "def epoch_train(loader, model,model_class,opt=None,save_snapshot=False,adversarial=False,compute_eps=False):\n",
        "    model.train()\n",
        "    total_loss, total_err = 0.,0.\n",
        "    weight_set_samples=[] \n",
        "    for iter_index,(X,y) in enumerate(loader):\n",
        "        X,y = X.to(device), y.to(device)\n",
        "        if adversarial:\n",
        "          # must use model copy for DP learning\n",
        "          model_copy= model_class().to(device);model_copy.load_state_dict(copy.deepcopy(model.state_dict()))\n",
        "          atk=torchattacks.PGD(model_copy, eps=adversarial, alpha=2.5*adversarial/20, steps=10)\n",
        "          X=atk(X,y)\n",
        "\n",
        "        yp = nn.LogSoftmax(dim=1)(model(X))\n",
        "        loss = nn.NLLLoss()(yp,y)\n",
        "        opt.zero_grad()\n",
        "        loss.backward()\n",
        "        opt.step()\n",
        "        if save_snapshot!=False and iter_index%save_snapshot==0:\n",
        "          weight_set_samples.append(copy.deepcopy(model.state_dict()))\n",
        "        \n",
        "        total_err += (yp.max(dim=1)[1] != y).sum().item()\n",
        "        total_loss += loss.item() * X.shape[0]\n",
        "\n",
        "    if compute_eps==True:\n",
        "      epsilon, _ = opt.privacy_engine.get_privacy_spent(args.delta)\n",
        "      print(f\"(ε = {epsilon:.2f}, δ = {args.delta})\")\n",
        "    return total_err / len(loader.dataset), total_loss / len(loader.dataset),weight_set_samples\n",
        "\n",
        "\n",
        "def epoch_train_FGSM(loader, model,model_class,opt=None,adversarial=False,compute_eps=False):\n",
        "    model.train()\n",
        "    total_loss, total_err = 0.,0.\n",
        "    for iter_index,(X,y) in enumerate(loader):\n",
        "        X,y = X.to(device), y.to(device)\n",
        "        if adversarial:\n",
        "          # must use model copy for DP learning\n",
        "          model_copy= model_class().to(device);model_copy.load_state_dict(copy.deepcopy(model.state_dict()))\n",
        "          atk=torchattacks.FGSM(model_copy, eps=adversarial)\n",
        "          X=atk(X,y)\n",
        "\n",
        "        yp = nn.LogSoftmax(dim=1)(model(X))\n",
        "        loss = nn.NLLLoss()(yp,y)\n",
        "        opt.zero_grad()\n",
        "        loss.backward()\n",
        "        opt.step()\n",
        "        \n",
        "        total_err += (yp.max(dim=1)[1] != y).sum().item()\n",
        "        total_loss += loss.item() * X.shape[0]\n",
        "    \n",
        "    if compute_eps==True:\n",
        "      epsilon, _ = opt.privacy_engine.get_privacy_spent(args.delta)\n",
        "      print(f\"(ε = {epsilon:.2f}, δ = {args.delta})\")\n",
        "    return total_err / len(loader.dataset), total_loss / len(loader.dataset)\n",
        "\n",
        "def epoch_train_CW(loader, model,model_class,opt=None,adversarial=False):\n",
        "    model.train()\n",
        "    total_loss, total_err = 0.,0.\n",
        "    for iter_index,(X,y) in enumerate(loader):\n",
        "        X,y = X.to(device), y.to(device)\n",
        "        if adversarial:\n",
        "          # must use model copy for DP learning\n",
        "          model_copy= model_class().to(device);model_copy.load_state_dict(copy.deepcopy(model.state_dict()))\n",
        "          atk=torchattacks.CW(model_copy, steps=100)\n",
        "          X=atk(X,y)\n",
        "\n",
        "        yp = nn.LogSoftmax(dim=1)(model(X))\n",
        "        loss = nn.NLLLoss()(yp,y)\n",
        "        opt.zero_grad()\n",
        "        loss.backward()\n",
        "        opt.step()\n",
        "\n",
        "        total_err += (yp.max(dim=1)[1] != y).sum().item()\n",
        "        total_loss += loss.item() * X.shape[0]\n",
        "    return total_err / len(loader.dataset), total_loss / len(loader.dataset)\n",
        "\n",
        "def epoch_train_PGDL2(loader, model,model_class,opt=None,adversarial=False):\n",
        "    model.train()\n",
        "    total_loss, total_err = 0.,0.\n",
        "    for iter_index,(X,y) in enumerate(loader):\n",
        "        X,y = X.to(device), y.to(device)\n",
        "        if adversarial:\n",
        "          # must use model copy for DP learning\n",
        "          model_copy= model_class().to(device);model_copy.load_state_dict(copy.deepcopy(model.state_dict()))\n",
        "          atk=torchattacks.PGDL2(model_copy, eps=adversarial)\n",
        "          X=atk(X,y)\n",
        "\n",
        "        yp = nn.LogSoftmax(dim=1)(model(X))\n",
        "        loss = nn.NLLLoss()(yp,y)\n",
        "        opt.zero_grad()\n",
        "        loss.backward()\n",
        "        opt.step()\n",
        "\n",
        "        total_err += (yp.max(dim=1)[1] != y).sum().item()\n",
        "        total_loss += loss.item() * X.shape[0]\n",
        "    return total_err / len(loader.dataset), total_loss / len(loader.dataset)\n"
      ],
      "execution_count": 8,
      "outputs": []
    },
    {
      "cell_type": "code",
      "metadata": {
        "id": "z18hhlVLiES3"
      },
      "source": [
        "class MNISTConvNet(nn.Module):\n",
        "    def __init__(self):\n",
        "        super().__init__()\n",
        "        self.conv1 = nn.Conv2d(1, 16, 8, 2, padding=3)\n",
        "        self.conv2 = nn.Conv2d(16, 32, 4, 2)\n",
        "        self.fc1 = nn.Linear(32 * 4 * 4, 32)\n",
        "        self.fc2 = nn.Linear(32, 10)\n",
        "\n",
        "    def forward(self, x):\n",
        "        # x of shape [B, 1, 28, 28]\n",
        "        x = torch.tanh(self.conv1(x))  # -> [B, 16, 14, 14]\n",
        "        x = F.max_pool2d(x, 2, 1)  # -> [B, 16, 13, 13]\n",
        "        x = torch.tanh(self.conv2(x))  # -> [B, 32, 5, 5]\n",
        "        x = F.max_pool2d(x, 2, 1)  # -> [B, 32, 4, 4]\n",
        "        x = x.view(-1, 32 * 4 * 4)  # -> [B, 512]\n",
        "        x = torch.tanh(self.fc1(x))  # -> [B, 32]\n",
        "        x = self.fc2(x)  # -> [B, 10]\n",
        "        return x\n",
        "\n",
        "    def name(self):\n",
        "        return \"MNISTConvNet\"\n"
      ],
      "execution_count": 9,
      "outputs": []
    },
    {
      "cell_type": "markdown",
      "metadata": {
        "id": "AlPz9l8a0U68"
      },
      "source": [
        "# MNSIT: DP-SGD and FGSM Attacks"
      ]
    },
    {
      "cell_type": "markdown",
      "metadata": {
        "id": "50bBOmd3J1LA"
      },
      "source": [
        "## FSGM attack"
      ]
    },
    {
      "cell_type": "code",
      "metadata": {
        "colab": {
          "base_uri": "https://localhost:8080/"
        },
        "id": "eT4ovsx705me",
        "outputId": "d587aaa9-45b5-4071-d9c6-7b62c6b2ed51"
      },
      "source": [
        "class Args:\n",
        "    batch_size=300\n",
        "    epochs=15\n",
        "    n_runs=1\n",
        "    lr=0.25\n",
        "    sigma=1.3\n",
        "    max_per_sample_grad_norm=1.5\n",
        "    delta=1e-5\n",
        "    device='cuda'\n",
        "    save_model=False\n",
        "    disable_dp=False\n",
        "    \n",
        "args = Args()\n",
        "device = torch.device(args.device)\n",
        "\n",
        "train_loader = torch.utils.data.DataLoader(\n",
        "    datasets.MNIST(\"../data\",train=True,download=True,\n",
        "                   transform=transforms.Compose(\n",
        "                       [transforms.ToTensor()])# no normalization for attacks\n",
        "                   ), batch_size=args.batch_size, shuffle=True)\n",
        "test_loader = torch.utils.data.DataLoader(\n",
        "    datasets.MNIST(\"../data\",train=False,\n",
        "                   transform=transforms.Compose(\n",
        "                       [transforms.ToTensor()])\n",
        "                   ), batch_size=1000, shuffle=False)\n",
        "\n",
        "\n",
        "cnn_nonDP = MNISTConvNet().to(device)\n",
        "opt_nonDP = optim.SGD(cnn_nonDP.parameters(), lr=args.lr)\n",
        "cnn_nonDP_adv = MNISTConvNet().to(device)\n",
        "opt_nonDP_adv = optim.SGD(cnn_nonDP_adv.parameters(), lr=args.lr)\n",
        "cnn_DP=MNISTConvNet().to(device)\n",
        "opt_DP = optim.SGD(cnn_DP.parameters(), lr=args.lr)\n",
        "cnn_DP_adv=MNISTConvNet().to(device)\n",
        "opt_DP_adv = optim.SGD(cnn_DP_adv.parameters(), lr=args.lr)\n",
        "\n",
        "privacy_engine = PrivacyEngine(\n",
        "    cnn_DP,\n",
        "    batch_size=args.batch_size,\n",
        "    sample_size=len(train_loader.dataset),\n",
        "    alphas=[1 + x / 10.0 for x in range(1, 100)] + list(range(12, 64)),\n",
        "    noise_multiplier=args.sigma,\n",
        "    max_grad_norm=args.max_per_sample_grad_norm,\n",
        ")\n",
        "privacy_engine.attach(opt_DP)\n",
        "\n",
        "privacy_engine_adv = PrivacyEngine(\n",
        "    cnn_DP_adv,\n",
        "    batch_size=args.batch_size,\n",
        "    sample_size=len(train_loader.dataset),\n",
        "    alphas=[1 + x / 10.0 for x in range(1, 100)] + list(range(12, 64)),\n",
        "    noise_multiplier=args.sigma,\n",
        "    max_grad_norm=args.max_per_sample_grad_norm,\n",
        ")\n",
        "privacy_engine_adv.attach(opt_DP_adv)\n",
        "\n",
        "test_err_nonDP_record,test_loss_nonDP_record=[],[]\n",
        "test_err_nonDP_record_adv,test_loss_nonDP_record_adv=[],[]\n",
        "test_err_nonDP_adv_record,test_loss_nonDP_adv_record=[],[]\n",
        "test_err_nonDP_adv_record_adv,test_loss_nonDP_adv_record_adv=[],[]\n",
        "test_err_DP_record,test_loss_DP_record=[],[]\n",
        "test_err_DP_record_adv,test_loss_DP_record_adv=[],[]\n",
        "test_err_DP_adv_record,test_loss_DP_adv_record=[],[]\n",
        "test_err_DP_adv_record_adv,test_loss_DP_adv_record_adv=[],[]\n",
        "\n",
        "for Epoch in range(args.epochs):\n",
        "    ### only save last epoch snapshots\n",
        "    train_err_nonDP, train_loss_nonDP = epoch_train_FGSM(train_loader, cnn_nonDP,MNISTConvNet, opt_nonDP)\n",
        "    test_err_nonDP, test_loss_nonDP = epoch_test(test_loader, cnn_nonDP)\n",
        "    test_err_nonDP_record.append(test_err_nonDP)\n",
        "    test_loss_nonDP_record.append(test_loss_nonDP)\n",
        "    print('Epoch',Epoch,'--> nonDP:',*(\"{:.6f}\".format(i) for i in (1-train_err_nonDP, train_loss_nonDP, 1-test_err_nonDP, test_loss_nonDP)), sep=\"\\t\" )\n",
        "    a,b=epoch_adversarial_GITHUB(cnn_nonDP, test_loader, torchattacks.FGSM, 0.1)\n",
        "    test_err_nonDP_record_adv.append(a)\n",
        "    test_loss_nonDP_record_adv.append(b)\n",
        "    print('Robust accuracy:',1-a,b)\n",
        "\n",
        "    train_err_nonDP_adv, train_loss_nonDP_adv = epoch_train_FGSM(train_loader, cnn_nonDP_adv,MNISTConvNet, opt_nonDP_adv,adversarial=0.1)\n",
        "    test_err_nonDP_adv, test_loss_nonDP_adv = epoch_test(test_loader, cnn_nonDP_adv)\n",
        "    test_err_nonDP_adv_record.append(test_err_nonDP_adv)\n",
        "    test_loss_nonDP_adv_record.append(test_loss_nonDP_adv)\n",
        "    print('Epoch',Epoch,'--> nonDP_adv:',*(\"{:.6f}\".format(i) for i in (1-train_err_nonDP_adv, train_loss_nonDP_adv, 1-test_err_nonDP_adv, test_loss_nonDP_adv)), sep=\"\\t\")\n",
        "    a,b=epoch_adversarial_GITHUB(cnn_nonDP_adv, test_loader, torchattacks.FGSM, 0.1)\n",
        "    test_err_nonDP_adv_record_adv.append(a)\n",
        "    test_loss_nonDP_adv_record_adv.append(b)\n",
        "    print('Robust accuracy:',1-a,b)\n",
        "\n",
        "    train_err_DP, train_loss_DP = epoch_train_FGSM(train_loader, cnn_DP,MNISTConvNet, opt_DP,compute_eps=True)\n",
        "    test_err_DP, test_loss_DP = epoch_test(test_loader, cnn_DP)\n",
        "    test_err_DP_record.append(test_err_DP)\n",
        "    test_loss_DP_record.append(test_loss_DP)\n",
        "    print('Epoch',Epoch,'--> DP:',*(\"{:.6f}\".format(i) for i in (1-train_err_DP, train_loss_DP, 1-test_err_DP, test_loss_DP)), sep=\"\\t\")\n",
        "    cnn_DP_copy = MNISTConvNet().to(device);cnn_DP_copy.load_state_dict(copy.deepcopy(cnn_DP.state_dict()))    \n",
        "    a,b=epoch_adversarial_GITHUB(cnn_DP_copy, test_loader, torchattacks.FGSM, 0.1)\n",
        "    test_err_DP_record_adv.append(a)\n",
        "    test_loss_DP_record_adv.append(b)\n",
        "    print('Robust accuracy:',1-a,b)\n",
        "    \n",
        "    train_err_DP_adv, train_loss_DP_adv = epoch_train_FGSM(train_loader, cnn_DP_adv,MNISTConvNet, opt_DP_adv,adversarial=0.1,compute_eps=True)\n",
        "    test_err_DP_adv, test_loss_DP_adv = epoch_test(test_loader, cnn_DP_adv)\n",
        "    test_err_DP_adv_record.append(test_err_DP_adv)\n",
        "    test_loss_DP_adv_record.append(test_loss_DP_adv)\n",
        "    print('Epoch',Epoch,'--> DP-Adv:',*(\"{:.6f}\".format(i) for i in (1-train_err_DP_adv, train_loss_DP_adv, 1-test_err_DP_adv, test_loss_DP_adv)), sep=\"\\t\")\n",
        "    cnn_DP_copy_adv = MNISTConvNet().to(device);cnn_DP_copy_adv.load_state_dict(copy.deepcopy(cnn_DP_adv.state_dict()))\n",
        "    a,b=epoch_adversarial_GITHUB(cnn_DP_copy_adv, test_loader, torchattacks.FGSM, 0.1)\n",
        "    test_err_DP_adv_record_adv.append(a)\n",
        "    test_loss_DP_adv_record_adv.append(b)\n",
        "    print('Robust accuracy:',1-a,b)\n",
        "    "
      ],
      "execution_count": 15,
      "outputs": [
        {
          "output_type": "stream",
          "name": "stderr",
          "text": [
            "/usr/local/lib/python3.7/dist-packages/opacus/privacy_engine.py:639: UserWarning: The sample rate will be defined from ``batch_size`` and ``sample_size``.The returned privacy budget will be incorrect.\n",
            "  \"The sample rate will be defined from ``batch_size`` and ``sample_size``.\"\n",
            "/usr/local/lib/python3.7/dist-packages/opacus/privacy_engine.py:230: UserWarning: Secure RNG turned off. This is perfectly fine for experimentation as it allows for much faster training performance, but remember to turn it on and retrain one last time before production with ``secure_rng`` turned on.\n",
            "  \"Secure RNG turned off. This is perfectly fine for experimentation as it allows \"\n",
            "/usr/local/lib/python3.7/dist-packages/opacus/privacy_engine.py:639: UserWarning: The sample rate will be defined from ``batch_size`` and ``sample_size``.The returned privacy budget will be incorrect.\n",
            "  \"The sample rate will be defined from ``batch_size`` and ``sample_size``.\"\n",
            "/usr/local/lib/python3.7/dist-packages/opacus/privacy_engine.py:230: UserWarning: Secure RNG turned off. This is perfectly fine for experimentation as it allows for much faster training performance, but remember to turn it on and retrain one last time before production with ``secure_rng`` turned on.\n",
            "  \"Secure RNG turned off. This is perfectly fine for experimentation as it allows \"\n"
          ]
        },
        {
          "output_type": "stream",
          "name": "stdout",
          "text": [
            "Epoch\t0\t--> nonDP:\t0.855367\t0.540751\t0.966800\t0.128374\n",
            "Robust accuracy: 0.6739999999999999 0.984422504901886\n",
            "Epoch\t0\t--> nonDP_adv:\t0.647450\t1.044916\t0.969200\t0.136894\n",
            "Robust accuracy: 0.849 0.4388977885246277\n"
          ]
        },
        {
          "output_type": "stream",
          "name": "stderr",
          "text": [
            "/usr/local/lib/python3.7/dist-packages/torch/nn/modules/module.py:974: UserWarning: Using a non-full backward hook when the forward contains multiple autograd Nodes is deprecated and will be removed in future versions. This hook will be missing some grad_input. Please use register_full_backward_hook to get the documented behavior.\n",
            "  warnings.warn(\"Using a non-full backward hook when the forward contains multiple autograd Nodes \"\n"
          ]
        },
        {
          "output_type": "stream",
          "name": "stdout",
          "text": [
            "(ε = 0.52, δ = 1e-05)\n",
            "Epoch\t0\t--> DP:\t0.698333\t1.132132\t0.874000\t0.435374\n",
            "Robust accuracy: 0.44899999999999995 1.6856250762939453\n",
            "(ε = 0.52, δ = 1e-05)\n",
            "Epoch\t0\t--> DP-Adv:\t0.372983\t1.839950\t0.829200\t0.766138\n",
            "Robust accuracy: 0.556 1.2090179920196533\n",
            "Epoch\t1\t--> nonDP:\t0.969050\t0.110172\t0.977900\t0.075665\n",
            "Robust accuracy: 0.7050000000000001 0.9551315307617188\n",
            "Epoch\t1\t--> nonDP_adv:\t0.891017\t0.342601\t0.975200\t0.090728\n",
            "Robust accuracy: 0.874 0.35775744915008545\n",
            "(ε = 0.56, δ = 1e-05)\n",
            "Epoch\t1\t--> DP:\t0.895767\t0.350924\t0.922600\t0.259914\n",
            "Robust accuracy: 0.538 1.6164039373397827\n",
            "(ε = 0.56, δ = 1e-05)\n",
            "Epoch\t1\t--> DP-Adv:\t0.658500\t0.962048\t0.913100\t0.344448\n",
            "Robust accuracy: 0.696 0.8753436803817749\n",
            "Epoch\t2\t--> nonDP:\t0.977533\t0.077041\t0.982300\t0.059952\n",
            "Robust accuracy: 0.663 1.072165608406067\n",
            "Epoch\t2\t--> nonDP_adv:\t0.919300\t0.250952\t0.984800\t0.057378\n",
            "Robust accuracy: 0.911 0.2533731758594513\n",
            "(ε = 0.60, δ = 1e-05)\n",
            "Epoch\t2\t--> DP:\t0.926233\t0.246890\t0.941500\t0.198979\n",
            "Robust accuracy: 0.5740000000000001 1.5726875066757202\n",
            "(ε = 0.60, δ = 1e-05)\n",
            "Epoch\t2\t--> DP-Adv:\t0.758500\t0.712063\t0.939100\t0.203561\n",
            "Robust accuracy: 0.762 0.7155658602714539\n",
            "Epoch\t3\t--> nonDP:\t0.983317\t0.058861\t0.984900\t0.050212\n",
            "Robust accuracy: 0.6759999999999999 1.0892218351364136\n",
            "Epoch\t3\t--> nonDP_adv:\t0.931083\t0.211110\t0.986700\t0.049862\n",
            "Robust accuracy: 0.923 0.21811828017234802\n",
            "(ε = 0.64, δ = 1e-05)\n",
            "Epoch\t3\t--> DP:\t0.939683\t0.204302\t0.950500\t0.169071\n",
            "Robust accuracy: 0.599 1.5335074663162231\n",
            "(ε = 0.64, δ = 1e-05)\n",
            "Epoch\t3\t--> DP-Adv:\t0.803217\t0.604614\t0.949500\t0.158559\n",
            "Robust accuracy: 0.796 0.6565590500831604\n",
            "Epoch\t4\t--> nonDP:\t0.985633\t0.049239\t0.985600\t0.048619\n",
            "Robust accuracy: 0.652 1.141434669494629\n",
            "Epoch\t4\t--> nonDP_adv:\t0.937833\t0.191407\t0.987300\t0.045398\n",
            "Robust accuracy: 0.929 0.21313147246837616\n",
            "(ε = 0.67, δ = 1e-05)\n",
            "Epoch\t4\t--> DP:\t0.946800\t0.179150\t0.955000\t0.150253\n",
            "Robust accuracy: 0.61 1.5121837854385376\n",
            "(ε = 0.67, δ = 1e-05)\n",
            "Epoch\t4\t--> DP-Adv:\t0.825100\t0.558315\t0.955700\t0.138459\n",
            "Robust accuracy: 0.806 0.6255467534065247\n",
            "Epoch\t5\t--> nonDP:\t0.988150\t0.041835\t0.987900\t0.037912\n",
            "Robust accuracy: 0.667 1.096313238143921\n",
            "Epoch\t5\t--> nonDP_adv:\t0.943383\t0.173651\t0.987500\t0.045403\n",
            "Robust accuracy: 0.927 0.2121795415878296\n",
            "(ε = 0.71, δ = 1e-05)\n",
            "Epoch\t5\t--> DP:\t0.952117\t0.162916\t0.959400\t0.138140\n",
            "Robust accuracy: 0.63 1.5478678941726685\n",
            "(ε = 0.71, δ = 1e-05)\n",
            "Epoch\t5\t--> DP-Adv:\t0.839133\t0.531088\t0.959900\t0.126363\n",
            "Robust accuracy: 0.821 0.6127534508705139\n",
            "Epoch\t6\t--> nonDP:\t0.989750\t0.036119\t0.987200\t0.039173\n",
            "Robust accuracy: 0.708 0.9703128337860107\n",
            "Epoch\t6\t--> nonDP_adv:\t0.947233\t0.161225\t0.986300\t0.044065\n",
            "Robust accuracy: 0.918 0.21808212995529175\n",
            "(ε = 0.75, δ = 1e-05)\n",
            "Epoch\t6\t--> DP:\t0.955633\t0.150167\t0.962600\t0.126980\n",
            "Robust accuracy: 0.64 1.5349065065383911\n",
            "(ε = 0.75, δ = 1e-05)\n",
            "Epoch\t6\t--> DP-Adv:\t0.848683\t0.512363\t0.964100\t0.114193\n",
            "Robust accuracy: 0.823 0.5895925760269165\n",
            "Epoch\t7\t--> nonDP:\t0.990733\t0.032559\t0.988700\t0.033567\n",
            "Robust accuracy: 0.6910000000000001 1.0148470401763916\n",
            "Epoch\t7\t--> nonDP_adv:\t0.949733\t0.154317\t0.989400\t0.035283\n",
            "Robust accuracy: 0.948 0.17171818017959595\n",
            "(ε = 0.79, δ = 1e-05)\n",
            "Epoch\t7\t--> DP:\t0.959000\t0.139200\t0.966300\t0.116090\n",
            "Robust accuracy: 0.644 1.5247819423675537\n",
            "(ε = 0.79, δ = 1e-05)\n",
            "Epoch\t7\t--> DP-Adv:\t0.854833\t0.504019\t0.966700\t0.110026\n",
            "Robust accuracy: 0.83 0.58915114402771\n",
            "Epoch\t8\t--> nonDP:\t0.991650\t0.028862\t0.988400\t0.034785\n",
            "Robust accuracy: 0.6659999999999999 1.25969660282135\n",
            "Epoch\t8\t--> nonDP_adv:\t0.953033\t0.143508\t0.990200\t0.033784\n",
            "Robust accuracy: 0.938 0.17134244740009308\n",
            "(ε = 0.83, δ = 1e-05)\n",
            "Epoch\t8\t--> DP:\t0.960917\t0.132276\t0.966500\t0.113867\n",
            "Robust accuracy: 0.633 1.5554054975509644\n",
            "(ε = 0.83, δ = 1e-05)\n",
            "Epoch\t8\t--> DP-Adv:\t0.860217\t0.490336\t0.969500\t0.102858\n",
            "Robust accuracy: 0.834 0.5615406632423401\n",
            "Epoch\t9\t--> nonDP:\t0.992300\t0.026628\t0.988900\t0.032086\n",
            "Robust accuracy: 0.6759999999999999 1.0886889696121216\n",
            "Epoch\t9\t--> nonDP_adv:\t0.954283\t0.139927\t0.989700\t0.034781\n",
            "Robust accuracy: 0.933 0.18520745635032654\n",
            "(ε = 0.87, δ = 1e-05)\n",
            "Epoch\t9\t--> DP:\t0.961767\t0.130962\t0.967600\t0.108611\n",
            "Robust accuracy: 0.627 1.5617778301239014\n",
            "(ε = 0.87, δ = 1e-05)\n",
            "Epoch\t9\t--> DP-Adv:\t0.866483\t0.475001\t0.970600\t0.099074\n",
            "Robust accuracy: 0.843 0.5591883063316345\n",
            "Epoch\t10\t--> nonDP:\t0.993417\t0.023875\t0.988500\t0.033483\n",
            "Robust accuracy: 0.6799999999999999 1.2172162532806396\n",
            "Epoch\t10\t--> nonDP_adv:\t0.955417\t0.135504\t0.989200\t0.033933\n",
            "Robust accuracy: 0.937 0.1820555329322815\n",
            "(ε = 0.90, δ = 1e-05)\n",
            "Epoch\t10\t--> DP:\t0.963250\t0.125729\t0.970100\t0.101765\n",
            "Robust accuracy: 0.634 1.582881212234497\n",
            "(ε = 0.90, δ = 1e-05)\n",
            "Epoch\t10\t--> DP-Adv:\t0.870817\t0.464245\t0.971500\t0.095270\n",
            "Robust accuracy: 0.846 0.5380451679229736\n",
            "Epoch\t11\t--> nonDP:\t0.994150\t0.021117\t0.989700\t0.031712\n",
            "Robust accuracy: 0.69 1.1016404628753662\n",
            "Epoch\t11\t--> nonDP_adv:\t0.958383\t0.128526\t0.990400\t0.032574\n",
            "Robust accuracy: 0.9410000000000001 0.17267657816410065\n",
            "(ε = 0.94, δ = 1e-05)\n",
            "Epoch\t11\t--> DP:\t0.964367\t0.121960\t0.970200\t0.101325\n",
            "Robust accuracy: 0.643 1.5848462581634521\n",
            "(ε = 0.94, δ = 1e-05)\n",
            "Epoch\t11\t--> DP-Adv:\t0.873400\t0.461023\t0.972900\t0.091102\n",
            "Robust accuracy: 0.85 0.5330328941345215\n",
            "Epoch\t12\t--> nonDP:\t0.995017\t0.019186\t0.990600\t0.027741\n",
            "Robust accuracy: 0.696 1.1228046417236328\n",
            "Epoch\t12\t--> nonDP_adv:\t0.959400\t0.124087\t0.990100\t0.030708\n",
            "Robust accuracy: 0.937 0.1683606654405594\n",
            "(ε = 0.97, δ = 1e-05)\n",
            "Epoch\t12\t--> DP:\t0.965683\t0.119439\t0.971200\t0.098012\n",
            "Robust accuracy: 0.626 1.6267828941345215\n",
            "(ε = 0.97, δ = 1e-05)\n",
            "Epoch\t12\t--> DP-Adv:\t0.875667\t0.457701\t0.973700\t0.089224\n",
            "Robust accuracy: 0.853 0.5224854946136475\n",
            "Epoch\t13\t--> nonDP:\t0.995233\t0.017916\t0.990600\t0.028663\n",
            "Robust accuracy: 0.692 1.1363270282745361\n",
            "Epoch\t13\t--> nonDP_adv:\t0.960700\t0.121755\t0.989600\t0.032654\n",
            "Robust accuracy: 0.937 0.17760318517684937\n",
            "(ε = 1.01, δ = 1e-05)\n",
            "Epoch\t13\t--> DP:\t0.965983\t0.119300\t0.971000\t0.097518\n",
            "Robust accuracy: 0.613 1.69994056224823\n",
            "(ε = 1.01, δ = 1e-05)\n",
            "Epoch\t13\t--> DP-Adv:\t0.878317\t0.453726\t0.974600\t0.087761\n",
            "Robust accuracy: 0.85 0.5217154026031494\n",
            "Epoch\t14\t--> nonDP:\t0.995933\t0.016374\t0.990800\t0.027566\n",
            "Robust accuracy: 0.6779999999999999 1.2347629070281982\n",
            "Epoch\t14\t--> nonDP_adv:\t0.961817\t0.117649\t0.990200\t0.030506\n",
            "Robust accuracy: 0.935 0.1725999414920807\n",
            "(ε = 1.04, δ = 1e-05)\n",
            "Epoch\t14\t--> DP:\t0.966833\t0.114557\t0.971400\t0.095664\n",
            "Robust accuracy: 0.627 1.6643321514129639\n",
            "(ε = 1.04, δ = 1e-05)\n",
            "Epoch\t14\t--> DP-Adv:\t0.880617\t0.450692\t0.974900\t0.085655\n",
            "Robust accuracy: 0.859 0.5100849270820618\n"
          ]
        }
      ]
    },
    {
      "cell_type": "code",
      "metadata": {
        "colab": {
          "base_uri": "https://localhost:8080/",
          "height": 818
        },
        "id": "Ot62rfCmABI_",
        "outputId": "75b7618a-17c2-4427-af47-0f572eee2be0"
      },
      "source": [
        "import matplotlib.pyplot as plt\n",
        "plt.plot([1-i for i in test_err_nonDP_record],label='SGD')\n",
        "plt.plot([1-i for i in test_err_DP_record],label='DP-SGD')\n",
        "plt.plot([1-i for i in test_err_nonDP_adv_record],label='Adv')\n",
        "plt.plot([1-i for i in test_err_DP_adv_record],label='DP-Adv')\n",
        "plt.legend(fontsize=14)\n",
        "plt.xlabel('Epoch',fontsize=16)\n",
        "plt.ylabel('Clean Accuracy',fontsize=16)\n",
        "plt.show()\n",
        "\n",
        "\n",
        "plt.plot([1-i for i in test_err_nonDP_record_adv],label='SGD')\n",
        "plt.plot([1-i for i in test_err_DP_record_adv],label='DP-SGD')\n",
        "plt.plot([1-i for i in test_err_nonDP_adv_record_adv],label='Adv')\n",
        "plt.plot([1-i for i in test_err_DP_adv_record_adv],label='DP-Adv')\n",
        "# plt.legend(fontsize=14)\n",
        "plt.xlabel('Epoch',fontsize=16)\n",
        "plt.ylabel('Robust Accuracy',fontsize=16)\n",
        "plt.show()\n",
        "\n",
        "\n",
        "EPS=[0.52,0.56,0.6,0.64,0.67,0.71,0.75,0.79,0.83,0.87,0.9,0.94,0.97,1.01]\n",
        "plt.plot(EPS,[1-i for i in test_err_DP_record[:-1]],label='DP-SGD, clean')\n",
        "plt.plot(EPS,[1-i for i in test_err_DP_record_adv[:-1]],label='DP-SGD, robust')\n",
        "plt.plot(EPS,[1-i for i in test_err_DP_adv_record[:-1]],label='DP-Adv, clean')\n",
        "plt.plot(EPS,[1-i for i in test_err_DP_adv_record_adv[:-1]],label='DP-Adv, robust')\n",
        "plt.legend(loc='lower left',fontsize=14)\n",
        "plt.xlabel(r'$\\epsilon$',fontsize=16)\n",
        "plt.ylabel('Robust Accuracy',fontsize=16)\n",
        "plt.show()"
      ],
      "execution_count": null,
      "outputs": [
        {
          "output_type": "display_data",
          "data": {
            "image/png": "[encoded data removed]",
            "text/plain": [
              "<Figure size 432x288 with 1 Axes>"
            ]
          },
          "metadata": {
            "needs_background": "light"
          }
        },
        {
          "output_type": "display_data",
          "data": {
            "image/png": "[encoded data removed]",
            "text/plain": [
              "<Figure size 432x288 with 1 Axes>"
            ]
          },
          "metadata": {
            "needs_background": "light"
          }
        },
        {
          "output_type": "display_data",
          "data": {
            "image/png": "[encoded data removed]",
            "text/plain": [
              "<Figure size 432x288 with 1 Axes>"
            ]
          },
          "metadata": {
            "needs_background": "light"
          }
        }
      ]
    },
    {
      "cell_type": "markdown",
      "metadata": {
        "id": "pqjAv81d_spq"
      },
      "source": [
        "# MNIST transferability"
      ]
    },
    {
      "cell_type": "markdown",
      "metadata": {
        "id": "DfXNUF5aWBWq"
      },
      "source": [
        "## FGSM weights"
      ]
    },
    {
      "cell_type": "code",
      "metadata": {
        "colab": {
          "base_uri": "https://localhost:8080/"
        },
        "id": "92bwgwW4E1OK",
        "outputId": "31600107-ef34-487c-8fc5-a510b74c2468"
      },
      "source": [
        "print(1-epoch_adversarial_GITHUB(cnn_nonDP, test_loader, torchattacks.FGSM,None,1,0.1)[0])\n",
        "print(1-epoch_adversarial_GITHUB(cnn_nonDP, test_loader, torchattacks.PGD,None,1,0.1,0.01,20)[0])\n",
        "print(1-epoch_adversarial_GITHUB(cnn_nonDP, test_loader, torchattacks.BIM,None,1,0.1)[0])\n",
        "print(1-epoch_adversarial_GITHUB(cnn_nonDP, test_loader, torchattacks.APGD,None,1,'Linf',0.1)[0])\n",
        "print(1-epoch_adversarial_GITHUB(cnn_nonDP, test_loader, torchattacks.AutoAttack,None,1,'Linf',0.1)[0])\n",
        "# print(1-epoch_adversarial_GITHUB(cnn_nonDP, test_loader, torchattacks.CW,None,1,1)[0])\n",
        "print(1-epoch_adversarial_GITHUB(cnn_nonDP, test_loader, torchattacks.PGDL2,None,1,1)[0])\n",
        "print(1-epoch_adversarial_GITHUB(cnn_nonDP, test_loader, torchattacks.APGD,None,1,'L2',1)[0])\n",
        "print(1-epoch_adversarial_GITHUB(cnn_nonDP, test_loader, torchattacks.AutoAttack,None,1,'L2',1)[0])"
      ],
      "execution_count": null,
      "outputs": [
        {
          "output_type": "stream",
          "name": "stdout",
          "text": [
            "0.6779999999999999\n",
            "0.32999999999999996\n",
            "0.406\n",
            "0.28900000000000003\n",
            "0.271\n",
            "0.631\n",
            "0.616\n",
            "0.6\n"
          ]
        }
      ]
    },
    {
      "cell_type": "code",
      "metadata": {
        "colab": {
          "base_uri": "https://localhost:8080/"
        },
        "id": "1awlmRxBPsHa",
        "outputId": "2d324d4f-e6d8-4ad4-8ad2-33c76a3040ad"
      },
      "source": [
        "print(1-epoch_adversarial_GITHUB(cnn_DP, test_loader, torchattacks.FGSM,None,1,0.1)[0])\n",
        "print(1-epoch_adversarial_GITHUB(cnn_DP, test_loader, torchattacks.PGD,None,1,0.1,0.01,20)[0])\n",
        "print(1-epoch_adversarial_GITHUB(cnn_DP, test_loader, torchattacks.BIM,None,1,0.1)[0])\n",
        "print(1-epoch_adversarial_GITHUB(cnn_DP, test_loader, torchattacks.APGD,None,1,'Linf',0.1)[0])\n",
        "print(1-epoch_adversarial_GITHUB(cnn_DP, test_loader, torchattacks.AutoAttack,None,1,'Linf',0.1)[0])\n",
        "# print(1-epoch_adversarial_GITHUB(cnn_DP, test_loader, torchattacks.CW,None,1)[0])\n",
        "print(1-epoch_adversarial_GITHUB(cnn_DP, test_loader, torchattacks.PGDL2,None,1,1)[0])\n",
        "print(1-epoch_adversarial_GITHUB(cnn_DP, test_loader, torchattacks.APGD,None,1,'L2',1)[0])\n",
        "print(1-epoch_adversarial_GITHUB(cnn_DP, test_loader, torchattacks.AutoAttack,None,1,'L2',1)[0])"
      ],
      "execution_count": null,
      "outputs": [
        {
          "output_type": "stream",
          "name": "stdout",
          "text": [
            "0.63\n",
            "0.28\n",
            "0.369\n",
            "0.20599999999999996\n",
            "0.18700000000000006\n",
            "0.963\n",
            "0.527\n",
            "0.518\n",
            "0.498\n"
          ]
        }
      ]
    },
    {
      "cell_type": "code",
      "metadata": {
        "colab": {
          "base_uri": "https://localhost:8080/"
        },
        "id": "KXBWt5hXE1Kp",
        "outputId": "fd0d1b52-ac65-4de1-d7a7-8c773d4cd52e"
      },
      "source": [
        "print(1-epoch_adversarial_GITHUB(cnn_nonDP_adv, test_loader, torchattacks.FGSM,None,1,0.1)[0])\n",
        "print(1-epoch_adversarial_GITHUB(cnn_nonDP_adv, test_loader, torchattacks.PGD,None,1,0.1,0.01,20)[0])\n",
        "print(1-epoch_adversarial_GITHUB(cnn_nonDP_adv, test_loader, torchattacks.BIM,None,1,0.1)[0])\n",
        "print(1-epoch_adversarial_GITHUB(cnn_nonDP_adv, test_loader, torchattacks.APGD,None,1,'Linf',0.1)[0])\n",
        "print(1-epoch_adversarial_GITHUB(cnn_nonDP_adv, test_loader, torchattacks.AutoAttack,None,1,'Linf',0.1)[0])\n",
        "# print(1-epoch_adversarial_GITHUB(cnn_nonDP_adv, test_loader, torchattacks.CW,None,1)[0])\n",
        "print(1-epoch_adversarial_GITHUB(cnn_nonDP_adv, test_loader, torchattacks.PGDL2,None,1,1)[0])\n",
        "print(1-epoch_adversarial_GITHUB(cnn_nonDP_adv, test_loader, torchattacks.APGD,None,1,'L2',1)[0])\n",
        "print(1-epoch_adversarial_GITHUB(cnn_nonDP_adv, test_loader, torchattacks.AutoAttack,None,1,'L2',1)[0])"
      ],
      "execution_count": null,
      "outputs": [
        {
          "output_type": "stream",
          "name": "stdout",
          "text": [
            "0.953\n",
            "0.924\n",
            "0.931\n",
            "0.922\n",
            "0.919\n",
            "0.989\n",
            "0.901\n",
            "0.902\n",
            "0.9\n"
          ]
        }
      ]
    },
    {
      "cell_type": "code",
      "metadata": {
        "colab": {
          "base_uri": "https://localhost:8080/"
        },
        "id": "NwH89cQ_EyUo",
        "outputId": "6b63939b-e6ac-42c0-e627-9beba7ed7c69"
      },
      "source": [
        "print(1-epoch_adversarial_GITHUB(cnn_DP_adv, test_loader, torchattacks.FGSM,None,1,0.1)[0])\n",
        "print(1-epoch_adversarial_GITHUB(cnn_DP_adv, test_loader, torchattacks.PGD,None,1,0.1,0.01,20)[0])\n",
        "print(1-epoch_adversarial_GITHUB(cnn_DP_adv, test_loader, torchattacks.BIM,None,1,0.1)[0])\n",
        "print(1-epoch_adversarial_GITHUB(cnn_DP_adv, test_loader, torchattacks.APGD,None,1,'Linf',0.1)[0])\n",
        "print(1-epoch_adversarial_GITHUB(cnn_DP_adv, test_loader, torchattacks.AutoAttack,None,1,'Linf',0.1)[0])\n",
        "# print(1-epoch_adversarial_GITHUB(cnn_DP_adv, test_loader, torchattacks.CW,None,1)[0])\n",
        "print(1-epoch_adversarial_GITHUB(cnn_DP_adv, test_loader, torchattacks.PGDL2,None,1,1)[0])\n",
        "print(1-epoch_adversarial_GITHUB(cnn_DP_adv, test_loader, torchattacks.APGD,None,1,'L2',1)[0])\n",
        "print(1-epoch_adversarial_GITHUB(cnn_DP_adv, test_loader, torchattacks.AutoAttack,None,1,'L2',1)[0])"
      ],
      "execution_count": null,
      "outputs": [
        {
          "output_type": "stream",
          "name": "stdout",
          "text": [
            "0.86\n",
            "0.8\n",
            "0.815\n",
            "0.784\n",
            "0.783\n",
            "0.966\n",
            "0.8220000000000001\n",
            "0.8200000000000001\n",
            "0.8160000000000001\n"
          ]
        }
      ]
    },
    {
      "cell_type": "markdown",
      "metadata": {
        "id": "BrHaJW4g7qxz"
      },
      "source": [
        "# MNIST calibration"
      ]
    },
    {
      "cell_type": "markdown",
      "metadata": {
        "id": "KAv9_CJi8NvD"
      },
      "source": [
        "## FGSM weights"
      ]
    },
    {
      "cell_type": "code",
      "metadata": {
        "colab": {
          "base_uri": "https://localhost:8080/",
          "height": 430
        },
        "id": "fbT_UUg17utj",
        "outputId": "b989daf5-1141-4e47-d526-ae05c19042e3"
      },
      "source": [
        "model_local=cnn_nonDP\n",
        "model_local.eval()\n",
        "y_local_te=np.empty((0,10))\n",
        "y_local_te_single=np.array([])\n",
        "targets_te=np.array([])\n",
        "prob_local=np.array([])\n",
        "with torch.no_grad():\n",
        "        for data, target in tqdm(test_loader):\n",
        "            data, target = data.to(device), target.to(device)\n",
        "            output = model_local(data)\n",
        "            y_local_te=np.append(y_local_te,F.softmax(output,dim=1).cpu().detach().numpy(),axis=0)\n",
        "            y_local_te_single=np.append(y_local_te_single,F.softmax(output,dim=1).argmax(dim=1).cpu().detach().numpy())\n",
        "            prob_local=np.append(prob_local,np.array([F.softmax(output,dim=1).cpu().detach().numpy()[i,j] for i,j in enumerate(target.cpu().detach().numpy()) if j==7]))\n",
        "            targets_te=np.append(targets_te,target.cpu().detach().numpy())\n",
        "\n",
        "local_acc = np.mean(y_local_te_single == targets_te)\n",
        "\n",
        "\n",
        "store_local=[]\n",
        "templ=np.max(y_local_te,axis=1)\n",
        "dr=0.05\n",
        "for ratio in np.arange(0,1,dr):\n",
        "    index=(templ>ratio)*(templ<ratio+dr)\n",
        "    store_local.append(np.mean(y_local_te_single[index]==targets_te[index]))\n",
        "    \n",
        "# some has nan, replace with 0\n",
        "store_local=np.array(store_local)\n",
        "store_local[np.isnan(store_local)]=0\n",
        "#%%\n",
        "xaxis=np.arange(0,1,dr)+dr/2\n",
        "plt.bar(xaxis[store_local!=0],store_local[store_local!=0],width=dr, edgecolor=\"black\")\n",
        "plt.bar(xaxis[store_local!=0],xaxis[store_local!=0]-store_local[store_local!=0],bottom=store_local[store_local!=0],width=dr, edgecolor=\"black\",color='yellow',alpha=0.5)\n",
        "plt.bar(10,10,bottom=store_local,width=dr, edgecolor=\"black\",color='green',alpha=0.5)\n",
        "plt.plot([0,1],[0,1],color='black',linewidth=2,linestyle='dashed')\n",
        "plt.xlim(0,1)\n",
        "plt.ylim(0,1)\n",
        "plt.xlabel('Confidence', fontsize=15)\n",
        "plt.ylabel('Accuracy', fontsize=15)\n",
        "plt.legend(('Perfect calibration','Accuracy','Over-confidence','Under-confidence'),fontsize=13,frameon=0)\n",
        "plt.show()\n",
        "\n",
        "print(f\"Local ECE: {np.mean(np.abs(xaxis[store_local!=0]-store_local[store_local!=0]))}\")\n",
        "print(f\"Local MCE: {np.max(np.abs(xaxis[store_local!=0]-store_local[store_local!=0]))}\")\n",
        "print(f\"Local accuracy: {local_acc}, predicted confidence {np.mean(np.max(y_local_te,axis=1))}\")\n"
      ],
      "execution_count": null,
      "outputs": [
        {
          "output_type": "stream",
          "name": "stderr",
          "text": [
            "100%|██████████| 10/10 [00:00<00:00, 12.90it/s]\n",
            "/usr/local/lib/python3.7/dist-packages/numpy/core/fromnumeric.py:3373: RuntimeWarning: Mean of empty slice.\n",
            "  out=out, **kwargs)\n",
            "/usr/local/lib/python3.7/dist-packages/numpy/core/_methods.py:170: RuntimeWarning: invalid value encountered in double_scalars\n",
            "  ret = ret.dtype.type(ret / rcount)\n"
          ]
        },
        {
          "output_type": "display_data",
          "data": {
            "image/png": "[encoded data removed]",
            "text/plain": [
              "<Figure size 432x288 with 1 Axes>"
            ]
          },
          "metadata": {
            "needs_background": "light"
          }
        },
        {
          "output_type": "stream",
          "name": "stdout",
          "text": [
            "Local ECE: 0.0962447529351361\n",
            "Local MCE: 0.375\n",
            "Local accuracy: 0.9917, predicted confidence 0.9901519007205963\n"
          ]
        }
      ]
    },
    {
      "cell_type": "code",
      "metadata": {
        "colab": {
          "base_uri": "https://localhost:8080/",
          "height": 430
        },
        "id": "aJ1fHBaI7vVI",
        "outputId": "3b25844f-91d2-45ea-f60f-2ba78481099e"
      },
      "source": [
        "model_local=cnn_nonDP_adv\n",
        "model_local.eval()\n",
        "y_local_te=np.empty((0,10))\n",
        "y_local_te_single=np.array([])\n",
        "targets_te=np.array([])\n",
        "prob_local=np.array([])\n",
        "with torch.no_grad():\n",
        "        for data, target in tqdm(test_loader):\n",
        "            data, target = data.to(device), target.to(device)\n",
        "            output = model_local(data)\n",
        "            y_local_te=np.append(y_local_te,F.softmax(output,dim=1).cpu().detach().numpy(),axis=0)\n",
        "            y_local_te_single=np.append(y_local_te_single,F.softmax(output,dim=1).argmax(dim=1).cpu().detach().numpy())\n",
        "            prob_local=np.append(prob_local,np.array([F.softmax(output,dim=1).cpu().detach().numpy()[i,j] for i,j in enumerate(target.cpu().detach().numpy()) if j==7]))\n",
        "            targets_te=np.append(targets_te,target.cpu().detach().numpy())\n",
        "\n",
        "local_acc = np.mean(y_local_te_single == targets_te)\n",
        "\n",
        "\n",
        "store_local=[]\n",
        "templ=np.max(y_local_te,axis=1)\n",
        "dr=0.05\n",
        "for ratio in np.arange(0,1,dr):\n",
        "    index=(templ>ratio)*(templ<ratio+dr)\n",
        "    store_local.append(np.mean(y_local_te_single[index]==targets_te[index]))\n",
        "    \n",
        "# some has nan, replace with 0\n",
        "store_local=np.array(store_local)\n",
        "store_local[np.isnan(store_local)]=0\n",
        "#%%\n",
        "xaxis=np.arange(0,1,dr)+dr/2\n",
        "plt.bar(xaxis[store_local!=0],store_local[store_local!=0],width=dr, edgecolor=\"black\")\n",
        "plt.bar(xaxis[store_local!=0],xaxis[store_local!=0]-store_local[store_local!=0],bottom=store_local[store_local!=0],width=dr, edgecolor=\"black\",color='yellow',alpha=0.5)\n",
        "plt.bar(10,10,bottom=store_local,width=dr, edgecolor=\"black\",color='green',alpha=0.5)\n",
        "plt.plot([0,1],[0,1],color='black',linewidth=2,linestyle='dashed')\n",
        "plt.xlim(0,1)\n",
        "plt.ylim(0,1)\n",
        "plt.xlabel('Confidence', fontsize=15)\n",
        "plt.ylabel('Accuracy', fontsize=15)\n",
        "plt.legend(('Perfect calibration','Accuracy','Over-confidence','Under-confidence'),fontsize=13,frameon=0)\n",
        "plt.show()\n",
        "\n",
        "print(f\"Local ECE: {np.mean(np.abs(xaxis[store_local!=0]-store_local[store_local!=0]))}\")\n",
        "print(f\"Local MCE: {np.max(np.abs(xaxis[store_local!=0]-store_local[store_local!=0]))}\")\n",
        "print(f\"Local accuracy: {local_acc}, predicted confidence {np.mean(np.max(y_local_te,axis=1))}\")\n"
      ],
      "execution_count": null,
      "outputs": [
        {
          "output_type": "stream",
          "name": "stderr",
          "text": [
            "100%|██████████| 10/10 [00:00<00:00, 12.95it/s]\n",
            "/usr/local/lib/python3.7/dist-packages/numpy/core/fromnumeric.py:3373: RuntimeWarning: Mean of empty slice.\n",
            "  out=out, **kwargs)\n",
            "/usr/local/lib/python3.7/dist-packages/numpy/core/_methods.py:170: RuntimeWarning: invalid value encountered in double_scalars\n",
            "  ret = ret.dtype.type(ret / rcount)\n"
          ]
        },
        {
          "output_type": "display_data",
          "data": {
            "image/png": "[encoded data removed]",
            "text/plain": [
              "<Figure size 432x288 with 1 Axes>"
            ]
          },
          "metadata": {
            "needs_background": "light"
          }
        },
        {
          "output_type": "stream",
          "name": "stdout",
          "text": [
            "Local ECE: 0.13680526948529956\n",
            "Local MCE: 0.6749999999999999\n",
            "Local accuracy: 0.9913, predicted confidence 0.9889053715735674\n"
          ]
        }
      ]
    },
    {
      "cell_type": "code",
      "metadata": {
        "colab": {
          "base_uri": "https://localhost:8080/",
          "height": 430
        },
        "id": "p40j4Wt08EHT",
        "outputId": "1cdd81c8-1045-4e66-8e61-915d273ab318"
      },
      "source": [
        "model_local=cnn_DP\n",
        "model_local.eval()\n",
        "y_local_te=np.empty((0,10))\n",
        "y_local_te_single=np.array([])\n",
        "targets_te=np.array([])\n",
        "prob_local=np.array([])\n",
        "with torch.no_grad():\n",
        "        for data, target in tqdm(test_loader):\n",
        "            data, target = data.to(device), target.to(device)\n",
        "            output = model_local(data)\n",
        "            y_local_te=np.append(y_local_te,F.softmax(output,dim=1).cpu().detach().numpy(),axis=0)\n",
        "            y_local_te_single=np.append(y_local_te_single,F.softmax(output,dim=1).argmax(dim=1).cpu().detach().numpy())\n",
        "            prob_local=np.append(prob_local,np.array([F.softmax(output,dim=1).cpu().detach().numpy()[i,j] for i,j in enumerate(target.cpu().detach().numpy()) if j==7]))\n",
        "            targets_te=np.append(targets_te,target.cpu().detach().numpy())\n",
        "\n",
        "local_acc = np.mean(y_local_te_single == targets_te)\n",
        "\n",
        "\n",
        "store_local=[]\n",
        "templ=np.max(y_local_te,axis=1)\n",
        "dr=0.05\n",
        "for ratio in np.arange(0,1,dr):\n",
        "    index=(templ>ratio)*(templ<ratio+dr)\n",
        "    store_local.append(np.mean(y_local_te_single[index]==targets_te[index]))\n",
        "    \n",
        "# some has nan, replace with 0\n",
        "store_local=np.array(store_local)\n",
        "store_local[np.isnan(store_local)]=0\n",
        "#%%\n",
        "xaxis=np.arange(0,1,dr)+dr/2\n",
        "plt.bar(xaxis[store_local!=0],store_local[store_local!=0],width=dr, edgecolor=\"black\")\n",
        "plt.bar(xaxis[store_local!=0],xaxis[store_local!=0]-store_local[store_local!=0],bottom=store_local[store_local!=0],width=dr, edgecolor=\"black\",color='yellow',alpha=0.5)\n",
        "plt.bar(10,10,bottom=store_local,width=dr, edgecolor=\"black\",color='green',alpha=0.5)\n",
        "plt.plot([0,1],[0,1],color='black',linewidth=2,linestyle='dashed')\n",
        "plt.xlim(0,1)\n",
        "plt.ylim(0,1)\n",
        "plt.xlabel('Confidence', fontsize=15)\n",
        "plt.ylabel('Accuracy', fontsize=15)\n",
        "plt.legend(('Perfect calibration','Accuracy','Over-confidence','Under-confidence'),fontsize=13,frameon=0)\n",
        "plt.show()\n",
        "\n",
        "print(f\"Local ECE: {np.mean(np.abs(xaxis[store_local!=0]-store_local[store_local!=0]))}\")\n",
        "print(f\"Local MCE: {np.max(np.abs(xaxis[store_local!=0]-store_local[store_local!=0]))}\")\n",
        "print(f\"Local accuracy: {local_acc}, predicted confidence {np.mean(np.max(y_local_te,axis=1))}\")\n"
      ],
      "execution_count": null,
      "outputs": [
        {
          "output_type": "stream",
          "name": "stderr",
          "text": [
            "100%|██████████| 10/10 [00:00<00:00, 11.57it/s]\n",
            "/usr/local/lib/python3.7/dist-packages/numpy/core/fromnumeric.py:3373: RuntimeWarning: Mean of empty slice.\n",
            "  out=out, **kwargs)\n",
            "/usr/local/lib/python3.7/dist-packages/numpy/core/_methods.py:170: RuntimeWarning: invalid value encountered in double_scalars\n",
            "  ret = ret.dtype.type(ret / rcount)\n"
          ]
        },
        {
          "output_type": "display_data",
          "data": {
            "image/png": "[encoded data removed]",
            "text/plain": [
              "<Figure size 432x288 with 1 Axes>"
            ]
          },
          "metadata": {
            "needs_background": "light"
          }
        },
        {
          "output_type": "stream",
          "name": "stdout",
          "text": [
            "Local ECE: 0.06432147286889306\n",
            "Local MCE: 0.17500000000000004\n",
            "Local accuracy: 0.9723, predicted confidence 0.978778334081173\n"
          ]
        }
      ]
    },
    {
      "cell_type": "code",
      "metadata": {
        "colab": {
          "base_uri": "https://localhost:8080/",
          "height": 430
        },
        "id": "DP_ElIWI8Bt5",
        "outputId": "889cbfe8-a5e8-42db-c1ba-580f05bf41e5"
      },
      "source": [
        "model_local=cnn_DP_adv\n",
        "model_local.eval()\n",
        "y_local_te=np.empty((0,10))\n",
        "y_local_te_single=np.array([])\n",
        "targets_te=np.array([])\n",
        "prob_local=np.array([])\n",
        "with torch.no_grad():\n",
        "        for data, target in tqdm(test_loader):\n",
        "            data, target = data.to(device), target.to(device)\n",
        "            output = model_local(data)\n",
        "            y_local_te=np.append(y_local_te,F.softmax(output,dim=1).cpu().detach().numpy(),axis=0)\n",
        "            y_local_te_single=np.append(y_local_te_single,F.softmax(output,dim=1).argmax(dim=1).cpu().detach().numpy())\n",
        "            prob_local=np.append(prob_local,np.array([F.softmax(output,dim=1).cpu().detach().numpy()[i,j] for i,j in enumerate(target.cpu().detach().numpy()) if j==7]))\n",
        "            targets_te=np.append(targets_te,target.cpu().detach().numpy())\n",
        "\n",
        "local_acc = np.mean(y_local_te_single == targets_te)\n",
        "\n",
        "\n",
        "store_local=[]\n",
        "templ=np.max(y_local_te,axis=1)\n",
        "dr=0.05\n",
        "for ratio in np.arange(0,1,dr):\n",
        "    index=(templ>ratio)*(templ<ratio+dr)\n",
        "    store_local.append(np.mean(y_local_te_single[index]==targets_te[index]))\n",
        "    \n",
        "# some has nan, replace with 0\n",
        "store_local=np.array(store_local)\n",
        "store_local[np.isnan(store_local)]=0\n",
        "#%%\n",
        "xaxis=np.arange(0,1,dr)+dr/2\n",
        "plt.bar(xaxis[store_local!=0],store_local[store_local!=0],width=dr, edgecolor=\"black\")\n",
        "plt.bar(xaxis[store_local!=0],xaxis[store_local!=0]-store_local[store_local!=0],bottom=store_local[store_local!=0],width=dr, edgecolor=\"black\",color='yellow',alpha=0.5)\n",
        "plt.bar(10,10,bottom=store_local,width=dr, edgecolor=\"black\",color='green',alpha=0.5)\n",
        "plt.plot([0,1],[0,1],color='black',linewidth=2,linestyle='dashed')\n",
        "plt.xlim(0,1)\n",
        "plt.ylim(0,1)\n",
        "plt.xlabel('Confidence', fontsize=15)\n",
        "plt.ylabel('Accuracy', fontsize=15)\n",
        "plt.legend(('Perfect calibration','Accuracy','Over-confidence','Under-confidence'),fontsize=13,frameon=0)\n",
        "plt.show()\n",
        "\n",
        "print(f\"Local ECE: {np.mean(np.abs(xaxis[store_local!=0]-store_local[store_local!=0]))}\")\n",
        "print(f\"Local MCE: {np.max(np.abs(xaxis[store_local!=0]-store_local[store_local!=0]))}\")\n",
        "print(f\"Local accuracy: {local_acc}, predicted confidence {np.mean(np.max(y_local_te,axis=1))}\")\n"
      ],
      "execution_count": null,
      "outputs": [
        {
          "output_type": "stream",
          "name": "stderr",
          "text": [
            "100%|██████████| 10/10 [00:00<00:00, 13.64it/s]\n",
            "/usr/local/lib/python3.7/dist-packages/numpy/core/fromnumeric.py:3373: RuntimeWarning: Mean of empty slice.\n",
            "  out=out, **kwargs)\n",
            "/usr/local/lib/python3.7/dist-packages/numpy/core/_methods.py:170: RuntimeWarning: invalid value encountered in double_scalars\n",
            "  ret = ret.dtype.type(ret / rcount)\n"
          ]
        },
        {
          "output_type": "display_data",
          "data": {
            "image/png": "[encoded data removed]",
            "text/plain": [
              "<Figure size 432x288 with 1 Axes>"
            ]
          },
          "metadata": {
            "needs_background": "light"
          }
        },
        {
          "output_type": "stream",
          "name": "stdout",
          "text": [
            "Local ECE: 0.13002036958966032\n",
            "Local MCE: 0.6749999999999999\n",
            "Local accuracy: 0.9743, predicted confidence 0.9832324415802955\n"
          ]
        }
      ]
    },
    {
      "cell_type": "code",
      "metadata": {
        "id": "K6FJIUV8An9F"
      },
      "source": [
        ""
      ],
      "execution_count": null,
      "outputs": []
    }
  ]
}